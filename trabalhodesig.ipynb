{
 "cells": [
  {
   "attachments": {},
   "cell_type": "markdown",
   "metadata": {},
   "source": [
    "Importações"
   ]
  },
  {
   "cell_type": "code",
   "execution_count": null,
   "metadata": {},
   "outputs": [],
   "source": [
    "import numpy as np\n",
    "import pandas as pd\n",
    "import folium\n",
    "import geopandas as gpd\n",
    "from sqlalchemy import create_engine  \n",
    "import getpass\n",
    "from folium import plugins"
   ]
  },
  {
   "attachments": {},
   "cell_type": "markdown",
   "metadata": {},
   "source": [
    "Conexão com o banco de dados do Postgres"
   ]
  },
  {
   "cell_type": "code",
   "execution_count": null,
   "metadata": {},
   "outputs": [],
   "source": [
    "host = \"\"\n",
    "database = \"\"\n",
    "user = ''\n",
    "password = ''\n",
    "# password = getpass.getpass()\n",
    "connection_string = f\"postgresql+psycopg2://{user}:{password}@{host}/{database}\""
   ]
  },
  {
   "attachments": {},
   "cell_type": "markdown",
   "metadata": {},
   "source": [
    "Mapa dos Biomas"
   ]
  },
  {
   "cell_type": "code",
   "execution_count": null,
   "metadata": {},
   "outputs": [],
   "source": [
    "sql = \"select * from biomas_br\"\n",
    "df_biomas = gpd.GeoDataFrame.from_postgis(sql,connection_string,geom_col='geom')\n",
    "df_biomas.head()"
   ]
  },
  {
   "cell_type": "code",
   "execution_count": null,
   "metadata": {},
   "outputs": [],
   "source": [
    "mapa1 = folium.Map([-14.0988176, -56.2574336], zoom_start=4)\n",
    "\n",
    "gjson_biomas = df_biomas.__geo_interface__\n",
    "bioma_color = {\n",
    "    'Amazônia': 'purple',\n",
    "    'Caatinga': 'blue',\n",
    "    'Cerrado': 'red',\n",
    "    'Mata Atlântica': 'yellow',\n",
    "    'Pampa': 'pink',\n",
    "    'Pantanal': 'green',\n",
    "}\n",
    "\n",
    "style = lambda feature: {\n",
    "    'fillColor': bioma_color[feature['properties']['bioma']],\n",
    "    'color': 'black',\n",
    "    'fillOpacity': 0.5,\n",
    "    'weight': 1.0,\n",
    "}\n",
    "\n",
    "mapa_1=folium.GeoJson(gjson_biomas, name='Biomas do Brasil',style_function=style).add_to(mapa1)\n",
    "\n",
    "mapa_1.add_to(mapa1)\n",
    "\n",
    "mapa1.save('biomas.html')\n",
    "mapa1"
   ]
  },
  {
   "cell_type": "code",
   "execution_count": null,
   "metadata": {},
   "outputs": [],
   "source": [
    "'''\n",
    "#mapa com descrição do bioma\n",
    "perso1 = folium.features.GeoJson(\n",
    "    data = gjson_biomas,\n",
    "    style_function=style,  \n",
    "    control=False, \n",
    "    tooltip=folium.features.GeoJsonTooltip(\n",
    "        fields=['bioma'],\n",
    "        aliases=['Bioma:']\n",
    "    )\n",
    ")\n",
    "\n",
    "mapa1.add_child(perso1)\n",
    "mapa1.keep_in_front(perso1)\n",
    "mapa_1=folium.GeoJson(gjson_biomas, name='Biomas do Brasil',style_function=style)\n",
    "mapa_1.add_to(mapa1)\n",
    "mapa1\n",
    "'''"
   ]
  },
  {
   "attachments": {},
   "cell_type": "markdown",
   "metadata": {},
   "source": [
    "Mapa do Desmatamento no Bioma Amazônia"
   ]
  },
  {
   "cell_type": "code",
   "execution_count": null,
   "metadata": {},
   "outputs": [],
   "source": [
    "sql = \"select * from desm_amaz\"\n",
    "df_desmatamento = gpd.GeoDataFrame.from_postgis(sql,connection_string,geom_col='geom')\n",
    "df_desmatamento.head()"
   ]
  },
  {
   "cell_type": "code",
   "execution_count": null,
   "metadata": {},
   "outputs": [],
   "source": [
    "df_amazo_desmat = df_desmatamento[df_desmatamento['nome'].isin(df_desmatamento['nome'])]\n",
    "\n",
    "mapa2 = folium.Map([-5.4888176, -59.8374336], zoom_start=5)\n",
    "\n",
    "gjson_desmatamento = df_amazo_desmat.__geo_interface__\n",
    "\n",
    "mapa_2=folium.Choropleth(\n",
    "    geo_data=gjson_desmatamento,\n",
    "    name='Desmatamento no Bioma Amazônia',\n",
    "    data=df_amazo_desmat,\n",
    "    columns=['nome', 'a_desma'],\n",
    "    key_on='feature.properties.nome',\n",
    "    fill_color='OrRd',\n",
    "    fill_opacity=0.8,\n",
    "    line_opacity=0.2,\n",
    "    line_color='black',\n",
    "    legend_name='Desmatamento (Km²)',\n",
    "    highlight=True\n",
    "    \n",
    ")\n",
    "mapa_2.add_to(mapa2)\n",
    "mapa2.save('desmatamento.html')\n",
    "mapa2"
   ]
  },
  {
   "cell_type": "code",
   "execution_count": null,
   "metadata": {},
   "outputs": [],
   "source": [
    "'''\n",
    "#mapa com descrição da quantidade\n",
    "style_2 = lambda x: {'fillColor': '#ffffff', \n",
    "                            'color':'#000000', \n",
    "                            'fillOpacity': 0.1, \n",
    "                            'weight': 0.1}\n",
    "\n",
    "highlight_2 = lambda x: {'fillColor': '#000000', \n",
    "                                'color':'#000000', \n",
    "                                'fillOpacity': 0.50, \n",
    "                                'weight': 0.1}\n",
    "perso = folium.features.GeoJson(\n",
    "    data = gjson_desmatamento,\n",
    "    style_function=style_2,  \n",
    "    control=False,\n",
    "    highlight_function=highlight_2, \n",
    "    tooltip=folium.features.GeoJsonTooltip(\n",
    "        fields=['a_desma'],\n",
    "        aliases=['Destamatamento(km²):'],\n",
    "    )\n",
    ")\n",
    "\n",
    "mapa2.add_child(perso)\n",
    "mapa2.keep_in_front(perso)\n",
    "mapa2\n",
    "'''"
   ]
  },
  {
   "attachments": {},
   "cell_type": "markdown",
   "metadata": {},
   "source": [
    "Mapa das Áreas Indígenas"
   ]
  },
  {
   "cell_type": "code",
   "execution_count": null,
   "metadata": {},
   "outputs": [],
   "source": [
    "sql = \"select * from a_indigenas\"\n",
    "df_indigenas = gpd.GeoDataFrame.from_postgis(sql,connection_string,geom_col='geom')\n",
    "df_indigenas.head()"
   ]
  },
  {
   "cell_type": "code",
   "execution_count": null,
   "metadata": {},
   "outputs": [],
   "source": [
    "mapa3 = folium.Map([-14.0988176, -56.2574336], zoom_start=4)\n",
    "\n",
    "df_indigenas['Latitude'] = df_indigenas['geom'].y.astype(float)\n",
    "df_indigenas['Longitude'] = df_indigenas['geom'].x.astype(float)\n",
    "\n",
    "mapa_3 = plugins.MarkerCluster(name='Áreas indígenas nos Biomas').add_to(mapa3)\n",
    "\n",
    "for i, row in df_indigenas.iterrows():\n",
    "    location = [row['Latitude'], row['Longitude']]\n",
    "    nome = row['nome']\n",
    "    marca= folium.Marker(location=location, popup=nome)\n",
    "    marca.add_to(mapa_3)\n",
    "\n",
    "mapa_3.add_to(mapa3)\n",
    "\n",
    "mapa3.save('area_indigenas.html')\n",
    "mapa3"
   ]
  },
  {
   "attachments": {},
   "cell_type": "markdown",
   "metadata": {},
   "source": [
    "Mapa das Áreas Indígenas no Bioma Amazônia"
   ]
  },
  {
   "cell_type": "code",
   "execution_count": null,
   "metadata": {},
   "outputs": [],
   "source": [
    "sql = \"select a.* from a_indigenas a, biomas_br b where ST_Intersects(a.geom, b.geom) and b.bioma='Amazônia'\"\n",
    "df_zonaindigena = gpd.GeoDataFrame.from_postgis(sql,connection_string,geom_col='geom')\n",
    "df_zonaindigena.head()"
   ]
  },
  {
   "cell_type": "code",
   "execution_count": null,
   "metadata": {},
   "outputs": [],
   "source": [
    "mapa4 = folium.Map([-7.6188176, -56.8374336],zoom_start = 5)\n",
    "\n",
    "mapa_4 = folium.FeatureGroup(name='Áreas indígenas no Bioma Amazônia')\n",
    "df_zonaindigena.apply(lambda row: folium.Marker(location = [row.loc['geom'].y, row.loc['geom'].x],\n",
    "                                         popup=row.loc['nome'],icon = folium.Icon(color='green')).add_to(mapa_4), axis=1)\n",
    "\n",
    "mapa_4.add_to(mapa4)\n",
    "mapa4.save(\"indigenas_amazonia.html\")\n",
    "mapa4"
   ]
  },
  {
   "cell_type": "markdown",
   "metadata": {},
   "source": [
    "Legenda"
   ]
  },
  {
   "cell_type": "code",
   "execution_count": null,
   "metadata": {},
   "outputs": [],
   "source": [
    "legenda = \"\"\"\n",
    "    <div style='position: fixed; bottom: 50px; right: 50px; z-index: 1000; background-color: white; padding: 10px; border-radius: 5px;'>\n",
    "        <h4>Biomas</h4>\n",
    "        <div>\n",
    "            <span style='background-color: purple; opacity:0.7; width: 10px; height: 10px; display: inline-block; margin-right: 5px;'></span>\n",
    "            Amazônia\n",
    "        </div>\n",
    "        <div>\n",
    "            <span style='background-color: blue; opacity:0.7; width: 10px; height: 10px; display: inline-block; margin-right: 5px;'></span>\n",
    "            Caatinga\n",
    "        </div>\n",
    "        <div>\n",
    "            <span style='background-color: red; opacity:0.7; width: 10px; height: 10px; display: inline-block; margin-right: 5px;'></span>\n",
    "            Cerrado\n",
    "        </div>\n",
    "        <div>\n",
    "            <span style='background-color: yellow; opacity:0.7; width: 10px; height: 10px; display: inline-block; margin-right: 5px;'></span>\n",
    "            Mata Atlântica\n",
    "        </div>\n",
    "        <div>\n",
    "            <span style='background-color: pink; opacity:0.7; width: 10px; height: 10px; display: inline-block; margin-right: 5px;'></span>\n",
    "            Pampa\n",
    "        </div>\n",
    "        <div>\n",
    "            <span style='background-color: green; opacity:0.7; width: 10px; height: 10px; display: inline-block; margin-right: 5px;'></span>\n",
    "            Pantanal\n",
    "        </div>\n",
    "        <h4>Áreas</h4>\n",
    "        <div>\n",
    "            <span class=\"fa fa-map-marker fa-lg\" style='color: blue; opacity:0.7; width: 10px; height: 10px; display: inline-block; margin-right: 5px;'></span>\n",
    "            Áreas indígenas\n",
    "        </div><br>\n",
    "        <div>\n",
    "            <span class=\"fa fa-map-marker fa-lg\" style='color: green; opacity:0.7; width: 10px; height: 10px; display: inline-block; margin-right: 5px;'></span>\n",
    "            Áreas indígenas da Amazônia\n",
    "        </div>\n",
    "    </div>\n",
    "\n",
    "\"\"\"\n",
    "\n",
    "mapa1.get_root().html.add_child(folium.Element(legenda))\n",
    "mapa_1.add_to(mapa1)\n"
   ]
  },
  {
   "attachments": {},
   "cell_type": "markdown",
   "metadata": {},
   "source": [
    "Camadas Customizadas"
   ]
  },
  {
   "cell_type": "code",
   "execution_count": null,
   "metadata": {},
   "outputs": [],
   "source": [
    "mapa_base = folium.Map([-14.0988176, -56.2574336], zoom_start=4)\n",
    "\n",
    "#camada1\n",
    "mapa_base.get_root().html.add_child(folium.Element(legenda))\n",
    "mapa_1.add_to(mapa_base)\n",
    "#camada2\n",
    "mapa_2.add_to(mapa_base)\n",
    "#camada3\n",
    "mapa_3.add_to(mapa_base)\n",
    "#camada4\n",
    "mapa_4.add_to(mapa_base)                                      \n",
    "    \n",
    "folium.LayerControl().add_to(mapa_base)\n",
    "\n",
    "mapa_base.save('camadas_customizadas.html')\n",
    "mapa_base"
   ]
  }
 ],
 "metadata": {
  "kernelspec": {
   "display_name": "base",
   "language": "python",
   "name": "python3"
  },
  "language_info": {
   "codemirror_mode": {
    "name": "ipython",
    "version": 3
   },
   "file_extension": ".py",
   "mimetype": "text/x-python",
   "name": "python",
   "nbconvert_exporter": "python",
   "pygments_lexer": "ipython3",
   "version": "3.10.10"
  },
  "orig_nbformat": 4
 },
 "nbformat": 4,
 "nbformat_minor": 2
}
